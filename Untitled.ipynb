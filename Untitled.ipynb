{
 "cells": [
  {
   "cell_type": "code",
   "execution_count": 1,
   "metadata": {},
   "outputs": [],
   "source": [
    "\"\"\"\n",
    "Created on Mon Jul  8 12:07:07 2019\n",
    "\n",
    "@author: vieth\n",
    "\"\"\"\n",
    "import os\n",
    "import sys\n",
    "\n",
    "import pandas as pd\n",
    "import numpy as np\n",
    "\n",
    "import matplotlib.pyplot as plt\n",
    "import sklearn\n",
    "from sklearn.linear_model import LogisticRegression"
   ]
  },
  {
   "cell_type": "markdown",
   "metadata": {},
   "source": [
    "## Dataset overview"
   ]
  },
  {
   "cell_type": "code",
   "execution_count": 2,
   "metadata": {},
   "outputs": [
    {
     "name": "stderr",
     "output_type": "stream",
     "text": [
      "E:\\Anaconda\\lib\\site-packages\\ipykernel_launcher.py:1: ParserWarning: Falling back to the 'python' engine because the 'c' engine does not support skipfooter; you can avoid this warning by specifying engine='python'.\n",
      "  \"\"\"Entry point for launching an IPython kernel.\n",
      "E:\\Anaconda\\lib\\site-packages\\ipykernel_launcher.py:5: ParserWarning: Falling back to the 'python' engine because the 'c' engine does not support skipfooter; you can avoid this warning by specifying engine='python'.\n",
      "  \"\"\"\n"
     ]
    },
    {
     "data": {
      "text/html": [
       "<div>\n",
       "<style scoped>\n",
       "    .dataframe tbody tr th:only-of-type {\n",
       "        vertical-align: middle;\n",
       "    }\n",
       "\n",
       "    .dataframe tbody tr th {\n",
       "        vertical-align: top;\n",
       "    }\n",
       "\n",
       "    .dataframe thead th {\n",
       "        text-align: right;\n",
       "    }\n",
       "</style>\n",
       "<table border=\"1\" class=\"dataframe\">\n",
       "  <thead>\n",
       "    <tr style=\"text-align: right;\">\n",
       "      <th></th>\n",
       "      <th>id</th>\n",
       "      <th>loan_amnt</th>\n",
       "      <th>funded_amnt</th>\n",
       "      <th>funded_amnt_inv</th>\n",
       "      <th>term_months</th>\n",
       "      <th>int_rate</th>\n",
       "      <th>installment</th>\n",
       "      <th>grade</th>\n",
       "      <th>sub_grade</th>\n",
       "      <th>emp_title</th>\n",
       "      <th>...</th>\n",
       "      <th>sec_app_open_acc</th>\n",
       "      <th>sec_app_revol_util</th>\n",
       "      <th>sec_app_open_act_il</th>\n",
       "      <th>sec_app_num_rev_accts</th>\n",
       "      <th>sec_app_chargeoff_within_12_mths</th>\n",
       "      <th>sec_app_collections_12_mths_ex_med</th>\n",
       "      <th>sec_app_mths_since_last_major_derog</th>\n",
       "      <th>hardship_flag</th>\n",
       "      <th>disbursement_method</th>\n",
       "      <th>debt_settlement_flag</th>\n",
       "    </tr>\n",
       "  </thead>\n",
       "  <tbody>\n",
       "    <tr>\n",
       "      <th>0</th>\n",
       "      <td>1.0</td>\n",
       "      <td>10000.0</td>\n",
       "      <td>10000.0</td>\n",
       "      <td>10000.0</td>\n",
       "      <td>36.0</td>\n",
       "      <td>20.39%</td>\n",
       "      <td>373.63</td>\n",
       "      <td>D</td>\n",
       "      <td>D4</td>\n",
       "      <td>Realtor</td>\n",
       "      <td>...</td>\n",
       "      <td>5.0</td>\n",
       "      <td>99.2</td>\n",
       "      <td>1.0</td>\n",
       "      <td>4.0</td>\n",
       "      <td>0.0</td>\n",
       "      <td>0.0</td>\n",
       "      <td>NaN</td>\n",
       "      <td>N</td>\n",
       "      <td>Cash</td>\n",
       "      <td>N</td>\n",
       "    </tr>\n",
       "    <tr>\n",
       "      <th>1</th>\n",
       "      <td>2.0</td>\n",
       "      <td>8000.0</td>\n",
       "      <td>8000.0</td>\n",
       "      <td>8000.0</td>\n",
       "      <td>36.0</td>\n",
       "      <td>6.83%</td>\n",
       "      <td>246.40</td>\n",
       "      <td>A</td>\n",
       "      <td>A3</td>\n",
       "      <td>City Attorney</td>\n",
       "      <td>...</td>\n",
       "      <td>5.0</td>\n",
       "      <td>99.2</td>\n",
       "      <td>1.0</td>\n",
       "      <td>4.0</td>\n",
       "      <td>0.0</td>\n",
       "      <td>0.0</td>\n",
       "      <td>NaN</td>\n",
       "      <td>N</td>\n",
       "      <td>Cash</td>\n",
       "      <td>N</td>\n",
       "    </tr>\n",
       "    <tr>\n",
       "      <th>2</th>\n",
       "      <td>3.0</td>\n",
       "      <td>20000.0</td>\n",
       "      <td>20000.0</td>\n",
       "      <td>20000.0</td>\n",
       "      <td>60.0</td>\n",
       "      <td>6.83%</td>\n",
       "      <td>394.43</td>\n",
       "      <td>A</td>\n",
       "      <td>A3</td>\n",
       "      <td>City Attorney</td>\n",
       "      <td>...</td>\n",
       "      <td>5.0</td>\n",
       "      <td>99.2</td>\n",
       "      <td>1.0</td>\n",
       "      <td>4.0</td>\n",
       "      <td>0.0</td>\n",
       "      <td>0.0</td>\n",
       "      <td>NaN</td>\n",
       "      <td>N</td>\n",
       "      <td>DirectPay</td>\n",
       "      <td>N</td>\n",
       "    </tr>\n",
       "    <tr>\n",
       "      <th>3</th>\n",
       "      <td>4.0</td>\n",
       "      <td>16000.0</td>\n",
       "      <td>16000.0</td>\n",
       "      <td>16000.0</td>\n",
       "      <td>36.0</td>\n",
       "      <td>14.03%</td>\n",
       "      <td>547.08</td>\n",
       "      <td>C</td>\n",
       "      <td>C2</td>\n",
       "      <td>SA Counselor</td>\n",
       "      <td>...</td>\n",
       "      <td>5.0</td>\n",
       "      <td>99.2</td>\n",
       "      <td>1.0</td>\n",
       "      <td>4.0</td>\n",
       "      <td>0.0</td>\n",
       "      <td>0.0</td>\n",
       "      <td>NaN</td>\n",
       "      <td>N</td>\n",
       "      <td>Cash</td>\n",
       "      <td>N</td>\n",
       "    </tr>\n",
       "    <tr>\n",
       "      <th>4</th>\n",
       "      <td>5.0</td>\n",
       "      <td>1000.0</td>\n",
       "      <td>1000.0</td>\n",
       "      <td>1000.0</td>\n",
       "      <td>36.0</td>\n",
       "      <td>23.87%</td>\n",
       "      <td>39.17</td>\n",
       "      <td>E</td>\n",
       "      <td>E2</td>\n",
       "      <td>Senior Electrical Engineer</td>\n",
       "      <td>...</td>\n",
       "      <td>5.0</td>\n",
       "      <td>99.2</td>\n",
       "      <td>1.0</td>\n",
       "      <td>4.0</td>\n",
       "      <td>0.0</td>\n",
       "      <td>0.0</td>\n",
       "      <td>NaN</td>\n",
       "      <td>N</td>\n",
       "      <td>Cash</td>\n",
       "      <td>N</td>\n",
       "    </tr>\n",
       "    <tr>\n",
       "      <th>...</th>\n",
       "      <td>...</td>\n",
       "      <td>...</td>\n",
       "      <td>...</td>\n",
       "      <td>...</td>\n",
       "      <td>...</td>\n",
       "      <td>...</td>\n",
       "      <td>...</td>\n",
       "      <td>...</td>\n",
       "      <td>...</td>\n",
       "      <td>...</td>\n",
       "      <td>...</td>\n",
       "      <td>...</td>\n",
       "      <td>...</td>\n",
       "      <td>...</td>\n",
       "      <td>...</td>\n",
       "      <td>...</td>\n",
       "      <td>...</td>\n",
       "      <td>...</td>\n",
       "      <td>...</td>\n",
       "      <td>...</td>\n",
       "      <td>...</td>\n",
       "    </tr>\n",
       "    <tr>\n",
       "      <th>130769</th>\n",
       "      <td>130770.0</td>\n",
       "      <td>14000.0</td>\n",
       "      <td>14000.0</td>\n",
       "      <td>13975.0</td>\n",
       "      <td>36.0</td>\n",
       "      <td>16.01%</td>\n",
       "      <td>492.27</td>\n",
       "      <td>C</td>\n",
       "      <td>C5</td>\n",
       "      <td>client analyst</td>\n",
       "      <td>...</td>\n",
       "      <td>23.0</td>\n",
       "      <td>57.0</td>\n",
       "      <td>7.0</td>\n",
       "      <td>40.0</td>\n",
       "      <td>0.0</td>\n",
       "      <td>0.0</td>\n",
       "      <td>48.0</td>\n",
       "      <td>N</td>\n",
       "      <td>Cash</td>\n",
       "      <td>N</td>\n",
       "    </tr>\n",
       "    <tr>\n",
       "      <th>130770</th>\n",
       "      <td>130771.0</td>\n",
       "      <td>7500.0</td>\n",
       "      <td>7500.0</td>\n",
       "      <td>7500.0</td>\n",
       "      <td>36.0</td>\n",
       "      <td>10.90%</td>\n",
       "      <td>245.19</td>\n",
       "      <td>B</td>\n",
       "      <td>B4</td>\n",
       "      <td>Residence Counselor</td>\n",
       "      <td>...</td>\n",
       "      <td>23.0</td>\n",
       "      <td>57.0</td>\n",
       "      <td>7.0</td>\n",
       "      <td>40.0</td>\n",
       "      <td>0.0</td>\n",
       "      <td>0.0</td>\n",
       "      <td>48.0</td>\n",
       "      <td>N</td>\n",
       "      <td>Cash</td>\n",
       "      <td>N</td>\n",
       "    </tr>\n",
       "    <tr>\n",
       "      <th>130771</th>\n",
       "      <td>130772.0</td>\n",
       "      <td>35000.0</td>\n",
       "      <td>35000.0</td>\n",
       "      <td>35000.0</td>\n",
       "      <td>36.0</td>\n",
       "      <td>6.07%</td>\n",
       "      <td>1065.88</td>\n",
       "      <td>A</td>\n",
       "      <td>A2</td>\n",
       "      <td>Founder</td>\n",
       "      <td>...</td>\n",
       "      <td>23.0</td>\n",
       "      <td>57.0</td>\n",
       "      <td>7.0</td>\n",
       "      <td>40.0</td>\n",
       "      <td>0.0</td>\n",
       "      <td>0.0</td>\n",
       "      <td>48.0</td>\n",
       "      <td>N</td>\n",
       "      <td>Cash</td>\n",
       "      <td>N</td>\n",
       "    </tr>\n",
       "    <tr>\n",
       "      <th>130772</th>\n",
       "      <td>130772.0</td>\n",
       "      <td>35000.0</td>\n",
       "      <td>35000.0</td>\n",
       "      <td>35000.0</td>\n",
       "      <td>36.0</td>\n",
       "      <td>6.07%</td>\n",
       "      <td>1065.88</td>\n",
       "      <td>A</td>\n",
       "      <td>A2</td>\n",
       "      <td>Founder</td>\n",
       "      <td>...</td>\n",
       "      <td>23.0</td>\n",
       "      <td>57.0</td>\n",
       "      <td>7.0</td>\n",
       "      <td>40.0</td>\n",
       "      <td>0.0</td>\n",
       "      <td>0.0</td>\n",
       "      <td>48.0</td>\n",
       "      <td>N</td>\n",
       "      <td>Cash</td>\n",
       "      <td>N</td>\n",
       "    </tr>\n",
       "    <tr>\n",
       "      <th>130773</th>\n",
       "      <td>130772.0</td>\n",
       "      <td>35000.0</td>\n",
       "      <td>35000.0</td>\n",
       "      <td>35000.0</td>\n",
       "      <td>36.0</td>\n",
       "      <td>6.07%</td>\n",
       "      <td>1065.88</td>\n",
       "      <td>A</td>\n",
       "      <td>A2</td>\n",
       "      <td>Founder</td>\n",
       "      <td>...</td>\n",
       "      <td>23.0</td>\n",
       "      <td>57.0</td>\n",
       "      <td>7.0</td>\n",
       "      <td>40.0</td>\n",
       "      <td>0.0</td>\n",
       "      <td>0.0</td>\n",
       "      <td>48.0</td>\n",
       "      <td>N</td>\n",
       "      <td>Cash</td>\n",
       "      <td>N</td>\n",
       "    </tr>\n",
       "  </tbody>\n",
       "</table>\n",
       "<p>130774 rows × 122 columns</p>\n",
       "</div>"
      ],
      "text/plain": [
       "              id  loan_amnt  funded_amnt  funded_amnt_inv  term_months  \\\n",
       "0            1.0    10000.0      10000.0          10000.0         36.0   \n",
       "1            2.0     8000.0       8000.0           8000.0         36.0   \n",
       "2            3.0    20000.0      20000.0          20000.0         60.0   \n",
       "3            4.0    16000.0      16000.0          16000.0         36.0   \n",
       "4            5.0     1000.0       1000.0           1000.0         36.0   \n",
       "...          ...        ...          ...              ...          ...   \n",
       "130769  130770.0    14000.0      14000.0          13975.0         36.0   \n",
       "130770  130771.0     7500.0       7500.0           7500.0         36.0   \n",
       "130771  130772.0    35000.0      35000.0          35000.0         36.0   \n",
       "130772  130772.0    35000.0      35000.0          35000.0         36.0   \n",
       "130773  130772.0    35000.0      35000.0          35000.0         36.0   \n",
       "\n",
       "       int_rate  installment grade sub_grade                   emp_title  ...  \\\n",
       "0        20.39%       373.63     D        D4                     Realtor  ...   \n",
       "1         6.83%       246.40     A        A3               City Attorney  ...   \n",
       "2         6.83%       394.43     A        A3               City Attorney  ...   \n",
       "3        14.03%       547.08     C        C2                SA Counselor  ...   \n",
       "4        23.87%        39.17     E        E2  Senior Electrical Engineer  ...   \n",
       "...         ...          ...   ...       ...                         ...  ...   \n",
       "130769   16.01%       492.27     C        C5              client analyst  ...   \n",
       "130770   10.90%       245.19     B        B4         Residence Counselor  ...   \n",
       "130771    6.07%      1065.88     A        A2                     Founder  ...   \n",
       "130772    6.07%      1065.88     A        A2                     Founder  ...   \n",
       "130773    6.07%      1065.88     A        A2                     Founder  ...   \n",
       "\n",
       "       sec_app_open_acc sec_app_revol_util  sec_app_open_act_il  \\\n",
       "0                   5.0               99.2                  1.0   \n",
       "1                   5.0               99.2                  1.0   \n",
       "2                   5.0               99.2                  1.0   \n",
       "3                   5.0               99.2                  1.0   \n",
       "4                   5.0               99.2                  1.0   \n",
       "...                 ...                ...                  ...   \n",
       "130769             23.0               57.0                  7.0   \n",
       "130770             23.0               57.0                  7.0   \n",
       "130771             23.0               57.0                  7.0   \n",
       "130772             23.0               57.0                  7.0   \n",
       "130773             23.0               57.0                  7.0   \n",
       "\n",
       "       sec_app_num_rev_accts sec_app_chargeoff_within_12_mths  \\\n",
       "0                        4.0                              0.0   \n",
       "1                        4.0                              0.0   \n",
       "2                        4.0                              0.0   \n",
       "3                        4.0                              0.0   \n",
       "4                        4.0                              0.0   \n",
       "...                      ...                              ...   \n",
       "130769                  40.0                              0.0   \n",
       "130770                  40.0                              0.0   \n",
       "130771                  40.0                              0.0   \n",
       "130772                  40.0                              0.0   \n",
       "130773                  40.0                              0.0   \n",
       "\n",
       "       sec_app_collections_12_mths_ex_med sec_app_mths_since_last_major_derog  \\\n",
       "0                                     0.0                                 NaN   \n",
       "1                                     0.0                                 NaN   \n",
       "2                                     0.0                                 NaN   \n",
       "3                                     0.0                                 NaN   \n",
       "4                                     0.0                                 NaN   \n",
       "...                                   ...                                 ...   \n",
       "130769                                0.0                                48.0   \n",
       "130770                                0.0                                48.0   \n",
       "130771                                0.0                                48.0   \n",
       "130772                                0.0                                48.0   \n",
       "130773                                0.0                                48.0   \n",
       "\n",
       "       hardship_flag disbursement_method debt_settlement_flag  \n",
       "0                  N                Cash                    N  \n",
       "1                  N                Cash                    N  \n",
       "2                  N           DirectPay                    N  \n",
       "3                  N                Cash                    N  \n",
       "4                  N                Cash                    N  \n",
       "...              ...                 ...                  ...  \n",
       "130769             N                Cash                    N  \n",
       "130770             N                Cash                    N  \n",
       "130771             N                Cash                    N  \n",
       "130772             N                Cash                    N  \n",
       "130773             N                Cash                    N  \n",
       "\n",
       "[130774 rows x 122 columns]"
      ]
     },
     "execution_count": 2,
     "metadata": {},
     "output_type": "execute_result"
    }
   ],
   "source": [
    "loan_df = pd.read_csv('data/LoanStats_2018Q2.csv', skiprows=1, skipfooter = 2)\n",
    "# Normalize data\n",
    "loan_df = loan_df.fillna(axis=0, method='ffill')\n",
    "\n",
    "rj_loan_df = pd.read_csv('data/RejectStats_2018Q2.csv', skiprows=1, skipfooter = 2)\n",
    "#Normalize data\n",
    "rj_loan_df = rj_loan_df.fillna(axis=0, method='ffill')\n",
    "\n",
    "loan_df = loan_df.drop(columns = \"term\")\n",
    "loan_df"
   ]
  },
  {
   "cell_type": "markdown",
   "metadata": {},
   "source": [
    "## Data cleansing and preparation"
   ]
  },
  {
   "cell_type": "code",
   "execution_count": 3,
   "metadata": {},
   "outputs": [
    {
     "name": "stdout",
     "output_type": "stream",
     "text": [
      "\n",
      "\n",
      "==========Approve loan=========\n",
      "Average loan amount: 15909.119549757597\n",
      "Average length: 43.20620306788811 months\n",
      "Average annual incom amount: 78665.61139905479\n",
      "Average employment length: 2.688554299784361 years\n",
      "Average debt-to-income ratio: 0.20223728344338215\n",
      "Approved loans: 130774\n"
     ]
    }
   ],
   "source": [
    "print (\"\\n\")\n",
    "print (\"==========Approve loan=========\")\n",
    "\n",
    "avg_loan_amt = loan_df.loc[:, \"loan_amnt\"].mean()\n",
    "print(\"Average loan amount:\", avg_loan_amt)\n",
    "\n",
    "avg_length_amt = loan_df.loc[:, \"term_months\"].mean()\n",
    "print(\"Average length:\", avg_length_amt, \"months\")\n",
    "\n",
    "avg_annual_inc_amt = loan_df.loc[:, \"annual_inc\"].mean()\n",
    "print(\"Average annual incom amount:\", avg_annual_inc_amt)\n",
    "\n",
    "# Transform employment length into a clear structure\n",
    "# Assume all n/a is 0, and all length less then 1 years is 0\n",
    "loan_df['emp_length'] = loan_df['emp_length'].replace(\"< 1 year\", '0 year')\n",
    "loan_df['emp_length'] = loan_df['emp_length'].replace(0, '0 year')\n",
    "\n",
    "#remove \"years\" out of column emp_length\n",
    "loan_df['emp_length'] = loan_df['emp_length'].apply(lambda x: int(x[0]))\n",
    "\n",
    "avg_emp_length_amt = loan_df.loc[:, \"emp_length\"].mean()\n",
    "print(\"Average employment length:\", avg_emp_length_amt, \"years\")\n",
    "\n",
    "avg_debt_inc_ratio = avg_loan_amt/avg_annual_inc_amt\n",
    "print(\"Average debt-to-income ratio:\", avg_debt_inc_ratio)\n",
    "\n",
    "loan_approval = len (loan_df)\n",
    "print (\"Approved loans:\",loan_approval)"
   ]
  },
  {
   "cell_type": "code",
   "execution_count": 4,
   "metadata": {},
   "outputs": [
    {
     "name": "stdout",
     "output_type": "stream",
     "text": [
      "==========Reject loan=========\n",
      "Average reject loan amount: 12515.380276223283\n",
      "Average reject employment length: 0.11600252533922324 years\n",
      "Average reject debt-to-income ratio: 1.1929819231297978\n",
      "Denied loans: 1048572\n",
      "\n",
      "\n",
      "Approved loanee\n",
      "grade\n",
      "A    33016\n",
      "B    38246\n",
      "C    35512\n",
      "D    18544\n",
      "E     4349\n",
      "F      923\n",
      "G      182\n",
      "Name: id, dtype: int64\n"
     ]
    }
   ],
   "source": [
    "# Do the same manupilation for reject\n",
    "print (\"==========Reject loan=========\")\n",
    "avg_rj_loan_amt = rj_loan_df.loc[:, \"Amount Requested\"].mean()\n",
    "print(\"Average reject loan amount:\", avg_rj_loan_amt)\n",
    "\n",
    "# Transform employment length into a clear structure\n",
    "# Assume all n/a is 0, and all length less then 1 years is 0\n",
    "rj_loan_df['Employment Length'] = rj_loan_df['Employment Length'].replace(\"< 1 year\", '0 year')\n",
    "rj_loan_df['Employment Length'] = rj_loan_df['Employment Length'].replace(0, '0 year')\n",
    "\n",
    "#remove \"years\" out of column emp_length\n",
    "rj_loan_df['Employment Length'] = rj_loan_df['Employment Length'].apply(lambda x: int(x[0]))\n",
    "\n",
    "avg_rj_emp_length_amt = rj_loan_df.loc[:, \"Employment Length\"].apply(lambda x: int(x)).mean()\n",
    "print(\"Average reject employment length:\", avg_rj_emp_length_amt, \"years\")\n",
    "\n",
    "avg_rj_debt_inc_ratio = rj_loan_df.loc[:, \"debt-to-inc ratio\"].mean()\n",
    "print(\"Average reject debt-to-income ratio:\", avg_rj_debt_inc_ratio)\n",
    "\n",
    "loan_denied = len (rj_loan_df)\n",
    "print (\"Denied loans:\",loan_denied)\n",
    "\n",
    "print (\"\\n\")\n",
    "#Re-engineer ranking loanee\n",
    "over_view_df = loan_df.groupby(\"grade\").id.nunique()\n",
    "print (\"Approved loanee\")\n",
    "print (over_view_df)"
   ]
  },
  {
   "cell_type": "code",
   "execution_count": 5,
   "metadata": {},
   "outputs": [
    {
     "data": {
      "text/plain": [
       "<matplotlib.axes._subplots.AxesSubplot at 0x18f88904988>"
      ]
     },
     "execution_count": 5,
     "metadata": {},
     "output_type": "execute_result"
    },
    {
     "data": {
      "image/png": "[encoded data removed]",
      "text/plain": [
       "<Figure size 432x288 with 1 Axes>"
      ]
     },
     "metadata": {
      "needs_background": "light"
     },
     "output_type": "display_data"
    }
   ],
   "source": [
    "#Draw overview, as seen the majority of loanee are A,B and C with over 70% loans in estimation\n",
    "over_view_df.plot.bar()"
   ]
  },
  {
   "cell_type": "code",
   "execution_count": 6,
   "metadata": {},
   "outputs": [
    {
     "data": {
      "text/html": [
       "<div>\n",
       "<style scoped>\n",
       "    .dataframe tbody tr th:only-of-type {\n",
       "        vertical-align: middle;\n",
       "    }\n",
       "\n",
       "    .dataframe tbody tr th {\n",
       "        vertical-align: top;\n",
       "    }\n",
       "\n",
       "    .dataframe thead th {\n",
       "        text-align: right;\n",
       "    }\n",
       "</style>\n",
       "<table border=\"1\" class=\"dataframe\">\n",
       "  <thead>\n",
       "    <tr style=\"text-align: right;\">\n",
       "      <th></th>\n",
       "      <th>loan_amnt</th>\n",
       "      <th>home_ownership</th>\n",
       "      <th>annual_inc</th>\n",
       "      <th>verification_status</th>\n",
       "    </tr>\n",
       "  </thead>\n",
       "  <tbody>\n",
       "    <tr>\n",
       "      <th>82696</th>\n",
       "      <td>20000.0</td>\n",
       "      <td>MORTGAGE</td>\n",
       "      <td>80000.0</td>\n",
       "      <td>Not Verified</td>\n",
       "    </tr>\n",
       "    <tr>\n",
       "      <th>29256</th>\n",
       "      <td>18000.0</td>\n",
       "      <td>MORTGAGE</td>\n",
       "      <td>95000.0</td>\n",
       "      <td>Verified</td>\n",
       "    </tr>\n",
       "    <tr>\n",
       "      <th>102045</th>\n",
       "      <td>10500.0</td>\n",
       "      <td>RENT</td>\n",
       "      <td>26000.0</td>\n",
       "      <td>Verified</td>\n",
       "    </tr>\n",
       "    <tr>\n",
       "      <th>62900</th>\n",
       "      <td>5000.0</td>\n",
       "      <td>RENT</td>\n",
       "      <td>40000.0</td>\n",
       "      <td>Verified</td>\n",
       "    </tr>\n",
       "    <tr>\n",
       "      <th>112119</th>\n",
       "      <td>11500.0</td>\n",
       "      <td>MORTGAGE</td>\n",
       "      <td>74900.0</td>\n",
       "      <td>Source Verified</td>\n",
       "    </tr>\n",
       "    <tr>\n",
       "      <th>...</th>\n",
       "      <td>...</td>\n",
       "      <td>...</td>\n",
       "      <td>...</td>\n",
       "      <td>...</td>\n",
       "    </tr>\n",
       "    <tr>\n",
       "      <th>128106</th>\n",
       "      <td>6500.0</td>\n",
       "      <td>RENT</td>\n",
       "      <td>30000.0</td>\n",
       "      <td>Source Verified</td>\n",
       "    </tr>\n",
       "    <tr>\n",
       "      <th>103694</th>\n",
       "      <td>10000.0</td>\n",
       "      <td>MORTGAGE</td>\n",
       "      <td>16000.0</td>\n",
       "      <td>Not Verified</td>\n",
       "    </tr>\n",
       "    <tr>\n",
       "      <th>860</th>\n",
       "      <td>12500.0</td>\n",
       "      <td>RENT</td>\n",
       "      <td>51000.0</td>\n",
       "      <td>Source Verified</td>\n",
       "    </tr>\n",
       "    <tr>\n",
       "      <th>15795</th>\n",
       "      <td>10000.0</td>\n",
       "      <td>MORTGAGE</td>\n",
       "      <td>80000.0</td>\n",
       "      <td>Source Verified</td>\n",
       "    </tr>\n",
       "    <tr>\n",
       "      <th>121958</th>\n",
       "      <td>11000.0</td>\n",
       "      <td>MORTGAGE</td>\n",
       "      <td>86000.0</td>\n",
       "      <td>Source Verified</td>\n",
       "    </tr>\n",
       "  </tbody>\n",
       "</table>\n",
       "<p>98080 rows × 4 columns</p>\n",
       "</div>"
      ],
      "text/plain": [
       "        loan_amnt home_ownership  annual_inc verification_status\n",
       "82696     20000.0       MORTGAGE     80000.0        Not Verified\n",
       "29256     18000.0       MORTGAGE     95000.0            Verified\n",
       "102045    10500.0           RENT     26000.0            Verified\n",
       "62900      5000.0           RENT     40000.0            Verified\n",
       "112119    11500.0       MORTGAGE     74900.0     Source Verified\n",
       "...           ...            ...         ...                 ...\n",
       "128106     6500.0           RENT     30000.0     Source Verified\n",
       "103694    10000.0       MORTGAGE     16000.0        Not Verified\n",
       "860       12500.0           RENT     51000.0     Source Verified\n",
       "15795     10000.0       MORTGAGE     80000.0     Source Verified\n",
       "121958    11000.0       MORTGAGE     86000.0     Source Verified\n",
       "\n",
       "[98080 rows x 4 columns]"
      ]
     },
     "execution_count": 6,
     "metadata": {},
     "output_type": "execute_result"
    }
   ],
   "source": [
    "from sklearn.feature_extraction import DictVectorizer\n",
    "from sklearn.model_selection import train_test_split\n",
    "\n",
    "loan_df_shaped = loan_df[['loan_amnt','grade','home_ownership',\n",
    "                         'annual_inc','verification_status']]\n",
    "#loan_df_shaped.int_rate = loan_df_shaped.int_rate.str.replace('%', '')\n",
    "loan_df_shaped = loan_df_shaped.dropna()\n",
    "\n",
    "loan_df_data = loan_df_shaped.drop(['grade'], axis=1)\n",
    "loan_df_target = loan_df_shaped['grade']\n",
    "loan_df_data_train, loan_df_data_test, loan_df_target_train, loan_df_target_test = train_test_split(\n",
    "    loan_df_data, loan_df_target, test_size=0.25, random_state=42);\n",
    "\n",
    "loan_df_data_train"
   ]
  },
  {
   "cell_type": "markdown",
   "metadata": {},
   "source": [
    "## Naive Bayes"
   ]
  },
  {
   "cell_type": "code",
   "execution_count": 7,
   "metadata": {},
   "outputs": [],
   "source": [
    "#from sklearn.naive_bayes import MultinomialNB\n",
    "from sklearn.naive_bayes import GaussianNB\n",
    "from sklearn.pipeline import make_pipeline\n",
    "\n",
    "vec = DictVectorizer(sparse=False, dtype=int)\n",
    "loan_dict = loan_df_data_train.to_dict('records');\n",
    "vec_train = vec.fit_transform(loan_dict);"
   ]
  },
  {
   "cell_type": "code",
   "execution_count": 8,
   "metadata": {},
   "outputs": [
    {
     "data": {
      "text/plain": [
       "GaussianNB()"
      ]
     },
     "execution_count": 8,
     "metadata": {},
     "output_type": "execute_result"
    }
   ],
   "source": [
    "model = GaussianNB()\n",
    "#vec_train\n",
    "model.fit(vec_train, loan_df_target_train.array)"
   ]
  },
  {
   "cell_type": "code",
   "execution_count": 9,
   "metadata": {},
   "outputs": [],
   "source": [
    "loan_dict_test = loan_df_data_test.to_dict('records');\n",
    "vec_test = vec.fit_transform(loan_dict_test);\n",
    "labels = model.predict(vec_test)\n",
    "#len(vec_test[0])"
   ]
  },
  {
   "cell_type": "code",
   "execution_count": 10,
   "metadata": {},
   "outputs": [],
   "source": [
    "#from sklearn.metrics import confusion_matrix\n",
    "import seaborn as sns\n",
    "#mat = confusion_matrix(loan_df_target_test.array, labels)\n",
    "#sns.heatmap(mat.T, square=True, annot=True, fmt='d', cbar=False,\n",
    "#            xticklabels=loan_df_target_train.array, yticklabels=loan_df_target_train.array)\n",
    "#plt.xlabel('true label')\n",
    "#plt.ylabel('predicted label');"
   ]
  },
  {
   "cell_type": "code",
   "execution_count": 11,
   "metadata": {},
   "outputs": [
    {
     "data": {
      "text/plain": [
       "0.2956199914357374"
      ]
     },
     "execution_count": 11,
     "metadata": {},
     "output_type": "execute_result"
    }
   ],
   "source": [
    "from sklearn.metrics import accuracy_score\n",
    "\n",
    "#y_pred = nv.predict(X_test) # store the prediction data\n",
    "accuracy_score(loan_df_target_test.array,labels)"
   ]
  },
  {
   "cell_type": "markdown",
   "metadata": {},
   "source": [
    "## K-means clustering"
   ]
  },
  {
   "cell_type": "code",
   "execution_count": 12,
   "metadata": {},
   "outputs": [],
   "source": [
    "from sklearn.cluster import KMeans\n",
    "\n",
    "kmeans = KMeans(n_clusters=7)"
   ]
  },
  {
   "cell_type": "code",
   "execution_count": 13,
   "metadata": {},
   "outputs": [],
   "source": [
    "loan_dict_data = loan_df_data.to_dict('records');\n",
    "vec_kmean = vec.fit_transform(loan_dict_data);\n",
    "\n",
    "kmeans.fit(vec_kmean)\n",
    "y_kmeans = kmeans.predict(vec_kmean)"
   ]
  },
  {
   "cell_type": "code",
   "execution_count": 14,
   "metadata": {},
   "outputs": [
    {
     "data": {
      "text/plain": [
       "array([0, 1, 4, ..., 4, 4, 4])"
      ]
     },
     "execution_count": 14,
     "metadata": {},
     "output_type": "execute_result"
    }
   ],
   "source": [
    "y_kmeans"
   ]
  },
  {
   "cell_type": "code",
   "execution_count": 15,
   "metadata": {},
   "outputs": [
    {
     "data": {
      "image/png": "[encoded data removed]",
      "text/plain": [
       "<Figure size 432x288 with 1 Axes>"
      ]
     },
     "metadata": {
      "needs_background": "light"
     },
     "output_type": "display_data"
    }
   ],
   "source": [
    "plt.scatter(vec_kmean[:, 0], vec_kmean[:, 1], c=y_kmeans, s=50, cmap='viridis')\n",
    "\n",
    "centers = kmeans.cluster_centers_\n",
    "plt.scatter(centers[:, 0], centers[:, 1], c='black', s=200, alpha=0.5);"
   ]
  },
  {
   "cell_type": "code",
   "execution_count": 16,
   "metadata": {},
   "outputs": [],
   "source": [
    "vec_kmean_target = []\n",
    "for val in loan_df_target:\n",
    "    if val == 'A':\n",
    "        vec_kmean_target.append(1)\n",
    "    if val == 'B':\n",
    "        vec_kmean_target.append(5)\n",
    "    if val == 'C':\n",
    "        vec_kmean_target.append(2)\n",
    "    if val == 'D':\n",
    "        vec_kmean_target.append(0)\n",
    "    if val == 'E':\n",
    "        vec_kmean_target.append(3)\n",
    "    if val == 'F':\n",
    "        vec_kmean_target.append(4)\n",
    "    if val == 'G':\n",
    "        vec_kmean_target.append(6)"
   ]
  },
  {
   "cell_type": "code",
   "execution_count": 17,
   "metadata": {},
   "outputs": [
    {
     "data": {
      "text/plain": [
       "0.1253536635722697"
      ]
     },
     "execution_count": 17,
     "metadata": {},
     "output_type": "execute_result"
    }
   ],
   "source": [
    "#loan_dict_target = loan_df_target.to_dict('records');\n",
    "#vec_kmean_target = vec.fit_transform(loan_dict_target);\n",
    "\n",
    "accuracy_score(vec_kmean_target,y_kmeans)"
   ]
  },
  {
   "cell_type": "markdown",
   "metadata": {},
   "source": [
    "## Take only top 20 emp_title"
   ]
  },
  {
   "cell_type": "code",
   "execution_count": 18,
   "metadata": {},
   "outputs": [
    {
     "data": {
      "text/plain": [
       "<PandasArray>\n",
       "[         'Teacher',          'Manager',            'Owner',\n",
       "           'Driver', 'Registered Nurse',       'Supervisor',\n",
       "            'Sales',               'RN',  'Project Manager',\n",
       "   'Office Manager']\n",
       "Length: 10, dtype: object"
      ]
     },
     "execution_count": 18,
     "metadata": {},
     "output_type": "execute_result"
    }
   ],
   "source": [
    "#take top 6 jobs\n",
    "top_jobs10 = loan_df.groupby('emp_title')['id'].nunique().sort_values(ascending = False).head(10).index\n",
    "\n",
    "top_jobs10.array"
   ]
  },
  {
   "cell_type": "code",
   "execution_count": 19,
   "metadata": {},
   "outputs": [],
   "source": [
    "loan_df_shaped2 = loan_df[['loan_amnt','grade','emp_title','home_ownership',\n",
    "                         'annual_inc','verification_status']]\n",
    "loan_df_shaped2 = loan_df_shaped2.dropna()\n",
    "loan_df_shaped2 = loan_df_shaped2[loan_df_shaped2.emp_title.isin(top_jobs10)]\n",
    "\n",
    "loan_df_data2 = loan_df_shaped2.drop(['grade'], axis=1)\n",
    "loan_df_target2 = loan_df_shaped2['grade']"
   ]
  },
  {
   "cell_type": "code",
   "execution_count": 20,
   "metadata": {},
   "outputs": [
    {
     "data": {
      "text/html": [
       "<div>\n",
       "<style scoped>\n",
       "    .dataframe tbody tr th:only-of-type {\n",
       "        vertical-align: middle;\n",
       "    }\n",
       "\n",
       "    .dataframe tbody tr th {\n",
       "        vertical-align: top;\n",
       "    }\n",
       "\n",
       "    .dataframe thead th {\n",
       "        text-align: right;\n",
       "    }\n",
       "</style>\n",
       "<table border=\"1\" class=\"dataframe\">\n",
       "  <thead>\n",
       "    <tr style=\"text-align: right;\">\n",
       "      <th></th>\n",
       "      <th>loan_amnt</th>\n",
       "      <th>emp_title</th>\n",
       "      <th>home_ownership</th>\n",
       "      <th>annual_inc</th>\n",
       "      <th>verification_status</th>\n",
       "    </tr>\n",
       "  </thead>\n",
       "  <tbody>\n",
       "    <tr>\n",
       "      <th>101744</th>\n",
       "      <td>36000.0</td>\n",
       "      <td>Manager</td>\n",
       "      <td>MORTGAGE</td>\n",
       "      <td>149000.0</td>\n",
       "      <td>Source Verified</td>\n",
       "    </tr>\n",
       "    <tr>\n",
       "      <th>14828</th>\n",
       "      <td>3000.0</td>\n",
       "      <td>Manager</td>\n",
       "      <td>RENT</td>\n",
       "      <td>43999.0</td>\n",
       "      <td>Source Verified</td>\n",
       "    </tr>\n",
       "    <tr>\n",
       "      <th>72776</th>\n",
       "      <td>3500.0</td>\n",
       "      <td>Teacher</td>\n",
       "      <td>MORTGAGE</td>\n",
       "      <td>42500.0</td>\n",
       "      <td>Source Verified</td>\n",
       "    </tr>\n",
       "    <tr>\n",
       "      <th>115233</th>\n",
       "      <td>16000.0</td>\n",
       "      <td>Driver</td>\n",
       "      <td>RENT</td>\n",
       "      <td>29000.0</td>\n",
       "      <td>Source Verified</td>\n",
       "    </tr>\n",
       "    <tr>\n",
       "      <th>4781</th>\n",
       "      <td>15000.0</td>\n",
       "      <td>Teacher</td>\n",
       "      <td>MORTGAGE</td>\n",
       "      <td>83000.0</td>\n",
       "      <td>Source Verified</td>\n",
       "    </tr>\n",
       "    <tr>\n",
       "      <th>...</th>\n",
       "      <td>...</td>\n",
       "      <td>...</td>\n",
       "      <td>...</td>\n",
       "      <td>...</td>\n",
       "      <td>...</td>\n",
       "    </tr>\n",
       "    <tr>\n",
       "      <th>49169</th>\n",
       "      <td>40000.0</td>\n",
       "      <td>Owner</td>\n",
       "      <td>MORTGAGE</td>\n",
       "      <td>120000.0</td>\n",
       "      <td>Not Verified</td>\n",
       "    </tr>\n",
       "    <tr>\n",
       "      <th>127084</th>\n",
       "      <td>36000.0</td>\n",
       "      <td>Sales</td>\n",
       "      <td>MORTGAGE</td>\n",
       "      <td>250000.0</td>\n",
       "      <td>Source Verified</td>\n",
       "    </tr>\n",
       "    <tr>\n",
       "      <th>50993</th>\n",
       "      <td>20000.0</td>\n",
       "      <td>Owner</td>\n",
       "      <td>MORTGAGE</td>\n",
       "      <td>71000.0</td>\n",
       "      <td>Not Verified</td>\n",
       "    </tr>\n",
       "    <tr>\n",
       "      <th>8082</th>\n",
       "      <td>8000.0</td>\n",
       "      <td>Teacher</td>\n",
       "      <td>RENT</td>\n",
       "      <td>28000.0</td>\n",
       "      <td>Not Verified</td>\n",
       "    </tr>\n",
       "    <tr>\n",
       "      <th>68572</th>\n",
       "      <td>40000.0</td>\n",
       "      <td>Manager</td>\n",
       "      <td>MORTGAGE</td>\n",
       "      <td>110000.0</td>\n",
       "      <td>Source Verified</td>\n",
       "    </tr>\n",
       "  </tbody>\n",
       "</table>\n",
       "<p>10361 rows × 5 columns</p>\n",
       "</div>"
      ],
      "text/plain": [
       "        loan_amnt emp_title home_ownership  annual_inc verification_status\n",
       "101744    36000.0   Manager       MORTGAGE    149000.0     Source Verified\n",
       "14828      3000.0   Manager           RENT     43999.0     Source Verified\n",
       "72776      3500.0   Teacher       MORTGAGE     42500.0     Source Verified\n",
       "115233    16000.0    Driver           RENT     29000.0     Source Verified\n",
       "4781      15000.0   Teacher       MORTGAGE     83000.0     Source Verified\n",
       "...           ...       ...            ...         ...                 ...\n",
       "49169     40000.0     Owner       MORTGAGE    120000.0        Not Verified\n",
       "127084    36000.0     Sales       MORTGAGE    250000.0     Source Verified\n",
       "50993     20000.0     Owner       MORTGAGE     71000.0        Not Verified\n",
       "8082       8000.0   Teacher           RENT     28000.0        Not Verified\n",
       "68572     40000.0   Manager       MORTGAGE    110000.0     Source Verified\n",
       "\n",
       "[10361 rows x 5 columns]"
      ]
     },
     "execution_count": 20,
     "metadata": {},
     "output_type": "execute_result"
    }
   ],
   "source": [
    "loan_df_data_train2, loan_df_data_test2, loan_df_target_train2, loan_df_target_test2 = train_test_split(\n",
    "    loan_df_data2, loan_df_target2, test_size=0.25, random_state=42);\n",
    "\n",
    "loan_df_data_train2"
   ]
  },
  {
   "cell_type": "code",
   "execution_count": 21,
   "metadata": {},
   "outputs": [
    {
     "data": {
      "text/plain": [
       "0.2889403590040533"
      ]
     },
     "execution_count": 21,
     "metadata": {},
     "output_type": "execute_result"
    }
   ],
   "source": [
    "loan_dict2 = loan_df_data_train2.to_dict('records');\n",
    "vec_train2 = vec.fit_transform(loan_dict2);\n",
    "\n",
    "model.fit(vec_train2, loan_df_target_train2.array)\n",
    "\n",
    "loan_dict_test2 = loan_df_data_test2.to_dict('records');\n",
    "vec_test2 = vec.fit_transform(loan_dict_test2);\n",
    "labels2 = model.predict(vec_test2)\n",
    "\n",
    "accuracy_score(loan_df_target_test2.array,labels2)"
   ]
  },
  {
   "cell_type": "code",
   "execution_count": 28,
   "metadata": {},
   "outputs": [],
   "source": [
    "loan_dict_data2 = loan_df_data2.to_dict('records');\n",
    "vec_kmean2 = vec.fit_transform(loan_dict_data2);\n",
    "\n",
    "kmeans.fit(vec_kmean2)\n",
    "y_kmeans2 = kmeans.predict(vec_kmean2)"
   ]
  },
  {
   "cell_type": "code",
   "execution_count": 29,
   "metadata": {},
   "outputs": [
    {
     "data": {
      "image/png": "[encoded data removed]",
      "text/plain": [
       "<Figure size 432x288 with 1 Axes>"
      ]
     },
     "metadata": {
      "needs_background": "light"
     },
     "output_type": "display_data"
    }
   ],
   "source": [
    "plt.scatter(vec_kmean2[:, 0], vec_kmean2[:, 1], c=y_kmeans2, s=50, cmap='viridis')\n",
    "\n",
    "centers2 = kmeans.cluster_centers_\n",
    "plt.scatter(centers2[:, 0], centers2[:, 1], c='black', s=200, alpha=0.5);"
   ]
  },
  {
   "cell_type": "code",
   "execution_count": 30,
   "metadata": {},
   "outputs": [
    {
     "data": {
      "text/plain": [
       "0.21360839667028592"
      ]
     },
     "execution_count": 30,
     "metadata": {},
     "output_type": "execute_result"
    }
   ],
   "source": [
    "vec_kmean_target2 = []\n",
    "for val in loan_df_target2:\n",
    "    if val == 'A':\n",
    "        vec_kmean_target2.append(1)\n",
    "    if val == 'B':\n",
    "        vec_kmean_target2.append(5)\n",
    "    if val == 'C':\n",
    "        vec_kmean_target2.append(2)\n",
    "    if val == 'D':\n",
    "        vec_kmean_target2.append(0)\n",
    "    if val == 'E':\n",
    "        vec_kmean_target2.append(3)\n",
    "    if val == 'F':\n",
    "        vec_kmean_target2.append(4)\n",
    "    if val == 'G':\n",
    "        vec_kmean_target2.append(6)\n",
    "        \n",
    "accuracy_score(vec_kmean_target2,y_kmeans2)"
   ]
  },
  {
   "cell_type": "code",
   "execution_count": null,
   "metadata": {},
   "outputs": [],
   "source": []
  }
 ],
 "metadata": {
  "kernelspec": {
   "display_name": "Python 3",
   "language": "python",
   "name": "python3"
  },
  "language_info": {
   "codemirror_mode": {
    "name": "ipython",
    "version": 3
   },
   "file_extension": ".py",
   "mimetype": "text/x-python",
   "name": "python",
   "nbconvert_exporter": "python",
   "pygments_lexer": "ipython3",
   "version": "3.7.6"
  }
 },
 "nbformat": 4,
 "nbformat_minor": 4
}
