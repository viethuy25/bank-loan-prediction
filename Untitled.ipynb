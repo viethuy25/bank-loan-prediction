{
 "cells": [
  {
   "cell_type": "code",
   "execution_count": null,
   "metadata": {},
   "outputs": [],
   "source": [
    "\"\"\"\n",
    "Created on Mon Jul  8 12:07:07 2019\n",
    "\n",
    "@author: vieth\n",
    "\"\"\"\n",
    "import os\n",
    "import sys\n",
    "\n",
    "import pandas as pd\n",
    "import numpy as np\n",
    "\n",
    "import matplotlib.pyplot as plt\n",
    "import sklearn\n",
    "from sklearn.linear_model import LogisticRegression"
   ]
  },
  {
   "cell_type": "markdown",
   "metadata": {},
   "source": [
    "## Dataset overview"
   ]
  },
  {
   "cell_type": "code",
   "execution_count": null,
   "metadata": {},
   "outputs": [],
   "source": [
    "loan_df = pd.read_csv('data/LoanStats_2018Q2.csv', skiprows=1, skipfooter = 2)\n",
    "# Normalize data\n",
    "loan_df = loan_df.fillna(axis=0, method='ffill')\n",
    "\n",
    "rj_loan_df = pd.read_csv('data/RejectStats_2018Q2.csv', skiprows=1, skipfooter = 2)\n",
    "#Normalize data\n",
    "rj_loan_df = rj_loan_df.fillna(axis=0, method='ffill')\n",
    "\n",
    "loan_df = loan_df.drop(columns = \"term\")\n",
    "loan_df"
   ]
  },
  {
   "cell_type": "markdown",
   "metadata": {},
   "source": [
    "## Data cleansing and preparation"
   ]
  },
  {
   "cell_type": "code",
   "execution_count": null,
   "metadata": {},
   "outputs": [],
   "source": [
    "print (\"\\n\")\n",
    "print (\"==========Approve loan=========\")\n",
    "\n",
    "avg_loan_amt = loan_df.loc[:, \"loan_amnt\"].mean()\n",
    "print(\"Average loan amount:\", avg_loan_amt)\n",
    "\n",
    "avg_length_amt = loan_df.loc[:, \"term_months\"].mean()\n",
    "print(\"Average length:\", avg_length_amt, \"months\")\n",
    "\n",
    "avg_annual_inc_amt = loan_df.loc[:, \"annual_inc\"].mean()\n",
    "print(\"Average annual incom amount:\", avg_annual_inc_amt)\n",
    "\n",
    "# Transform employment length into a clear structure\n",
    "# Assume all n/a is 0, and all length less then 1 years is 0\n",
    "loan_df['emp_length'] = loan_df['emp_length'].replace(\"< 1 year\", '0 year')\n",
    "loan_df['emp_length'] = loan_df['emp_length'].replace(0, '0 year')\n",
    "\n",
    "#remove \"years\" out of column emp_length\n",
    "loan_df['emp_length'] = loan_df['emp_length'].apply(lambda x: int(x[0]))\n",
    "\n",
    "avg_emp_length_amt = loan_df.loc[:, \"emp_length\"].mean()\n",
    "print(\"Average employment length:\", avg_emp_length_amt, \"years\")\n",
    "\n",
    "avg_debt_inc_ratio = avg_loan_amt/avg_annual_inc_amt\n",
    "print(\"Average debt-to-income ratio:\", avg_debt_inc_ratio)\n",
    "\n",
    "loan_approval = len (loan_df)\n",
    "print (\"Approved loans:\",loan_approval)"
   ]
  },
  {
   "cell_type": "code",
   "execution_count": null,
   "metadata": {},
   "outputs": [],
   "source": [
    "# Do the same manupilation for reject\n",
    "print (\"==========Reject loan=========\")\n",
    "avg_rj_loan_amt = rj_loan_df.loc[:, \"Amount Requested\"].mean()\n",
    "print(\"Average reject loan amount:\", avg_rj_loan_amt)\n",
    "\n",
    "# Transform employment length into a clear structure\n",
    "# Assume all n/a is 0, and all length less then 1 years is 0\n",
    "rj_loan_df['Employment Length'] = rj_loan_df['Employment Length'].replace(\"< 1 year\", '0 year')\n",
    "rj_loan_df['Employment Length'] = rj_loan_df['Employment Length'].replace(0, '0 year')\n",
    "\n",
    "#remove \"years\" out of column emp_length\n",
    "rj_loan_df['Employment Length'] = rj_loan_df['Employment Length'].apply(lambda x: int(x[0]))\n",
    "\n",
    "avg_rj_emp_length_amt = rj_loan_df.loc[:, \"Employment Length\"].apply(lambda x: int(x)).mean()\n",
    "print(\"Average reject employment length:\", avg_rj_emp_length_amt, \"years\")\n",
    "\n",
    "avg_rj_debt_inc_ratio = rj_loan_df.loc[:, \"debt-to-inc ratio\"].mean()\n",
    "print(\"Average reject debt-to-income ratio:\", avg_rj_debt_inc_ratio)\n",
    "\n",
    "loan_denied = len (rj_loan_df)\n",
    "print (\"Denied loans:\",loan_denied)\n",
    "\n",
    "print (\"\\n\")\n",
    "#Re-engineer ranking loanee\n",
    "over_view_df = loan_df.groupby(\"grade\").id.nunique()\n",
    "print (\"Approved loanee\")\n",
    "print (over_view_df)"
   ]
  },
  {
   "cell_type": "code",
   "execution_count": null,
   "metadata": {},
   "outputs": [],
   "source": [
    "#Draw overview, as seen the majority of loanee are A,B and C with over 70% loans in estimation\n",
    "over_view_df.plot.bar()"
   ]
  },
  {
   "cell_type": "code",
   "execution_count": null,
   "metadata": {},
   "outputs": [],
   "source": [
    "from sklearn.feature_extraction import DictVectorizer\n",
    "from sklearn.model_selection import train_test_split\n",
    "\n",
    "loan_df_shaped = loan_df[['loan_amnt','grade','home_ownership',\n",
    "                         'annual_inc','verification_status']]\n",
    "#loan_df_shaped.int_rate = loan_df_shaped.int_rate.str.replace('%', '')\n",
    "loan_df_shaped = loan_df_shaped.dropna()\n",
    "\n",
    "loan_df_data = loan_df_shaped.drop(['grade'], axis=1)\n",
    "loan_df_target = loan_df_shaped['grade']\n",
    "loan_df_data_train, loan_df_data_test, loan_df_target_train, loan_df_target_test = train_test_split(\n",
    "    loan_df_data, loan_df_target, test_size=0.25, random_state=42);\n",
    "\n",
    "loan_df_data_train"
   ]
  },
  {
   "cell_type": "markdown",
   "metadata": {},
   "source": [
    "## Naive Bayes"
   ]
  },
  {
   "cell_type": "code",
   "execution_count": null,
   "metadata": {},
   "outputs": [],
   "source": [
    "#from sklearn.naive_bayes import MultinomialNB\n",
    "from sklearn.naive_bayes import GaussianNB\n",
    "from sklearn.pipeline import make_pipeline\n",
    "\n",
    "vec = DictVectorizer(sparse=False, dtype=int)\n",
    "loan_dict = loan_df_data_train.to_dict('records');\n",
    "vec_train = vec.fit_transform(loan_dict);"
   ]
  },
  {
   "cell_type": "code",
   "execution_count": null,
   "metadata": {},
   "outputs": [],
   "source": [
    "model = GaussianNB()\n",
    "#vec_train\n",
    "model.fit(vec_train, loan_df_target_train.array)"
   ]
  },
  {
   "cell_type": "code",
   "execution_count": null,
   "metadata": {},
   "outputs": [],
   "source": [
    "loan_dict_test = loan_df_data_test.to_dict('records');\n",
    "vec_test = vec.fit_transform(loan_dict_test);\n",
    "labels = model.predict(vec_test)\n",
    "#len(vec_test[0])"
   ]
  },
  {
   "cell_type": "code",
   "execution_count": null,
   "metadata": {},
   "outputs": [],
   "source": [
    "#from sklearn.metrics import confusion_matrix\n",
    "import seaborn as sns\n",
    "#mat = confusion_matrix(loan_df_target_test.array, labels)\n",
    "#sns.heatmap(mat.T, square=True, annot=True, fmt='d', cbar=False,\n",
    "#            xticklabels=loan_df_target_train.array, yticklabels=loan_df_target_train.array)\n",
    "#plt.xlabel('true label')\n",
    "#plt.ylabel('predicted label');"
   ]
  },
  {
   "cell_type": "code",
   "execution_count": null,
   "metadata": {},
   "outputs": [],
   "source": [
    "from sklearn.metrics import accuracy_score\n",
    "\n",
    "#y_pred = nv.predict(X_test) # store the prediction data\n",
    "accuracy_score(loan_df_target_test.array,labels)"
   ]
  },
  {
   "cell_type": "markdown",
   "metadata": {},
   "source": [
    "## K-means clustering"
   ]
  },
  {
   "cell_type": "code",
   "execution_count": null,
   "metadata": {},
   "outputs": [],
   "source": [
    "from sklearn.cluster import KMeans\n",
    "\n",
    "kmeans = KMeans(n_clusters=7)"
   ]
  },
  {
   "cell_type": "code",
   "execution_count": null,
   "metadata": {},
   "outputs": [],
   "source": [
    "loan_dict_data = loan_df_data.to_dict('records');\n",
    "vec_kmean = vec.fit_transform(loan_dict_data);\n",
    "\n",
    "kmeans.fit(vec_kmean)\n",
    "y_kmeans = kmeans.predict(vec_kmean)"
   ]
  },
  {
   "cell_type": "code",
   "execution_count": null,
   "metadata": {},
   "outputs": [],
   "source": [
    "y_kmeans"
   ]
  },
  {
   "cell_type": "code",
   "execution_count": null,
   "metadata": {},
   "outputs": [],
   "source": [
    "plt.scatter(vec_kmean[:, 0], vec_kmean[:, 1], c=y_kmeans, s=50, cmap='viridis')\n",
    "\n",
    "centers = kmeans.cluster_centers_\n",
    "plt.scatter(centers[:, 0], centers[:, 1], c='black', s=200, alpha=0.5);"
   ]
  },
  {
   "cell_type": "code",
   "execution_count": null,
   "metadata": {},
   "outputs": [],
   "source": [
    "vec_kmean_target = []\n",
    "for val in loan_df_target:\n",
    "    if val == 'A':\n",
    "        vec_kmean_target.append(1)\n",
    "    if val == 'B':\n",
    "        vec_kmean_target.append(5)\n",
    "    if val == 'C':\n",
    "        vec_kmean_target.append(2)\n",
    "    if val == 'D':\n",
    "        vec_kmean_target.append(0)\n",
    "    if val == 'E':\n",
    "        vec_kmean_target.append(3)\n",
    "    if val == 'F':\n",
    "        vec_kmean_target.append(4)\n",
    "    if val == 'G':\n",
    "        vec_kmean_target.append(6)"
   ]
  },
  {
   "cell_type": "code",
   "execution_count": null,
   "metadata": {},
   "outputs": [],
   "source": [
    "#loan_dict_target = loan_df_target.to_dict('records');\n",
    "#vec_kmean_target = vec.fit_transform(loan_dict_target);\n",
    "\n",
    "accuracy_score(vec_kmean_target,y_kmeans)"
   ]
  },
  {
   "cell_type": "code",
   "execution_count": null,
   "metadata": {},
   "outputs": [],
   "source": [
    "loan_df_shaped2 = loan_df[['loan_amnt','grade','emp_title']]\n",
    "loan_df_shaped2 = loan_df_shaped2.dropna()\n",
    "\n",
    "loan_df_data2 = loan_df_shaped2.drop(['grade'], axis=1)\n",
    "loan_df_target2 = loan_df_shaped2['grade']"
   ]
  },
  {
   "cell_type": "code",
   "execution_count": null,
   "metadata": {},
   "outputs": [],
   "source": [
    "loan_dict_data2 = loan_df_data2.to_dict('records');\n",
    "vec_kmean2 = vec.fit_transform(loan_dict_data2);\n",
    "\n",
    "kmeans.fit(vec_kmean2)\n",
    "y_kmeans2 = kmeans.predict(vec_kmean2)"
   ]
  },
  {
   "cell_type": "code",
   "execution_count": null,
   "metadata": {},
   "outputs": [],
   "source": []
  }
 ],
 "metadata": {
  "kernelspec": {
   "display_name": "Python 3",
   "language": "python",
   "name": "python3"
  },
  "language_info": {
   "codemirror_mode": {
    "name": "ipython",
    "version": 3
   },
   "file_extension": ".py",
   "mimetype": "text/x-python",
   "name": "python",
   "nbconvert_exporter": "python",
   "pygments_lexer": "ipython3",
   "version": "3.7.6"
  }
 },
 "nbformat": 4,
 "nbformat_minor": 4
}
